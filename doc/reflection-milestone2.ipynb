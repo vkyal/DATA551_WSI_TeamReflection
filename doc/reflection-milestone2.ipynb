{
 "cells": [
  {
   "cell_type": "markdown",
   "id": "d6de184e-0a14-40c7-bf7f-864c140119ac",
   "metadata": {},
   "source": [
    "### Refelction - Milestone 2"
   ]
  },
  {
   "cell_type": "markdown",
   "id": "d23d144e-586f-474f-9f1c-9d0acde55159",
   "metadata": {},
   "source": [
    "As a data scientist consultancy firm our goal for the project is to create a dashboard for the citizen or the population who wants to get idea of the World Sustaiabiity with respect to Social, Economic and Environmental indicators. The dashboard is to show the World Sustainability to meet the needs of the present generation without compromising the ability of future generations to meet their own needs. In other words, it is about finding a way to achieve economic, social, and environmental progress in a way that is sustainable over the long term.\n",
    "\n",
    "World Sustainability Dashboard is created to track the performance of 173 countries against a range of sustainability metrics over a 19-year period (From 2000 to 2018).\n"
   ]
  },
  {
   "cell_type": "markdown",
   "id": "80567a01-2c16-44e7-8e34-f98817d2c65d",
   "metadata": {},
   "source": [
    "#### For the second milestone, we have done the follwoing 3 tabs\n",
    "\n",
    "1. The World Tab: In this tab of the dashboard will have the map of the world that is colored with the cloropath map instead of initial planned heatmap based on the sustainability index. The 1st page shows the sustainability index of all the countries and when hovering over a map it will show the index value of that specific country.\n",
    "\n",
    "2. Environmental Tab: The second tab is showing two graphs of environmental data. One graph is showing what proportion of the population is using the internet, given they have access to electricity. And the other graph is showing the proportion of adjusted savings: CO2 damage for given CO2 emission from production annually.\n",
    "\n",
    "3. Social Tab: The third tab is showing social graphs. One graph is showing the literacy level of the selected country for the selected period. The second graph is showing the disparity between the employment of males and females for the selected country, year, and period."
   ]
  },
  {
   "cell_type": "markdown",
   "id": "e1d32819-a2e6-49fd-9f1e-55982044f011",
   "metadata": {},
   "source": [
    "#### Development and bug for milestone 2:\n",
    "\n",
    "We are struggling to make the slideer work for the environmmental and social tab. However may be by the time we submit the milestone 2, it will already be working. \n"
   ]
  },
  {
   "cell_type": "markdown",
   "id": "fcb06aad-99ff-4fa0-8ea6-39853a40c56e",
   "metadata": {},
   "source": [
    "#### We are not we have done the following 2 tabs which we are planning to complete in Milestone 3 due to time shortage.\n",
    "\n",
    "1. The fourth tab was supposed to show one economic graph. Based on the selected country and year, it will be showing the proportion of export/imports for a given country's Gross Domestic Product(GDP) for the selected country for the specific period.\n",
    "\n",
    "2. The last tab was supposed to have two graphs both a bubble chart (bottom-left as per proposal) and a pie chart (top-right as per the proposal). The bubble chart will show the relationship between Inflation and GDP per capita across the selected country and the selected year. By default for this chart, it shows for all countries and for the year 2018. For the pie-chart distribution of income classes are shown based on the selected country, year and income group."
   ]
  },
  {
   "cell_type": "markdown",
   "id": "bd3b5fbd-5e65-4499-8d1c-fa2e154feffe",
   "metadata": {},
   "source": [
    "\n",
    "### Reflect on what you think your dashboard does well what its limitations are, and what are good future improvements and additions. This section should not be more than 500 words and the reflection-milestone2.md document should live in your GitHub.com repo in the doc folder."
   ]
  },
  {
   "cell_type": "code",
   "execution_count": null,
   "id": "e1da798b-1d05-485d-bcd0-abe1be770b2e",
   "metadata": {},
   "outputs": [],
   "source": []
  }
 ],
 "metadata": {
  "kernelspec": {
   "display_name": "Python 3 (ipykernel)",
   "language": "python",
   "name": "python3"
  },
  "language_info": {
   "codemirror_mode": {
    "name": "ipython",
    "version": 3
   },
   "file_extension": ".py",
   "mimetype": "text/x-python",
   "name": "python",
   "nbconvert_exporter": "python",
   "pygments_lexer": "ipython3",
   "version": "3.9.13"
  }
 },
 "nbformat": 4,
 "nbformat_minor": 5
}
